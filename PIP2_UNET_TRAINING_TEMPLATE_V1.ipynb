{
 "cells": [
  {
   "cell_type": "code",
   "execution_count": 1,
   "metadata": {},
   "outputs": [],
   "source": [
    "%load_ext autoreload\n",
    "%autoreload 2\n",
    "%matplotlib inline\n",
    "%load_ext memory_profiler"
   ]
  },
  {
   "cell_type": "code",
   "execution_count": 3,
   "metadata": {},
   "outputs": [
    {
     "name": "stderr",
     "output_type": "stream",
     "text": [
      "Using TensorFlow backend.\n"
     ]
    }
   ],
   "source": [
    "import sys\n",
    "sys.path.append('/n/groups/datta/rockwell/') #doing this because it's where mousertclassifier is\n",
    "import h5py\n",
    "import matplotlib.pyplot as plt\n",
    "import numpy as np\n",
    "import os\n",
    "import seaborn as sns\n",
    "import tqdm\n",
    "import joblib\n",
    "\n",
    "from glob import glob\n",
    "from shutil import copyfile\n",
    "from scipy.cluster.hierarchy import dendrogram, linkage, leaves_list, optimal_leaf_ordering\n",
    "from scipy.spatial.distance import pdist, squareform\n",
    "from mouse_rt_classifier.keras.util import DataGenAE\n",
    "from mouse_rt_classifier.io.util import jitter_frames\n",
    "from moseq2_pca.util import select_strel, clean_frames\n",
    "from keras.utils import Sequence\n",
    "\n",
    "from keras.layers import (Input, Dense, Conv2D, MaxPooling2D, \n",
    "                          UpSampling2D, Activation, BatchNormalization,\n",
    "                          Flatten, Reshape, Lambda, Add, AveragePooling2D, LeakyReLU,\n",
    "                          Concatenate)\n",
    "from keras.initializers import Zeros\n",
    "from keras.models import Model\n",
    "# from keras.losses import mse\n",
    "from keras import optimizers\n",
    "from keras.objectives import mse\n",
    "from keras import backend as K\n",
    "\n",
    "from sklearn.model_selection import train_test_split, TimeSeriesSplit"
   ]
  },
  {
   "cell_type": "code",
   "execution_count": 4,
   "metadata": {},
   "outputs": [
    {
     "name": "stderr",
     "output_type": "stream",
     "text": [
      "WARNING: Logging before flag parsing goes to stderr.\n",
      "W0331 10:27:01.547216 140264626353984 deprecation_wrapper.py:119] From /home/ra206/miniconda3/envs/unetgpu/lib/python3.7/site-packages/keras/backend/tensorflow_backend.py:74: The name tf.get_default_graph is deprecated. Please use tf.compat.v1.get_default_graph instead.\n",
      "\n"
     ]
    }
   ],
   "source": [
    "# old-fashioned CAE\n",
    "def unet(input_shape=(80, 80, 1),\n",
    "         nfilters=[32, 16, 16],\n",
    "         kernel=(3, 3),\n",
    "         stride_length=(1, 1),\n",
    "         kernel_initializer='glorot_uniform',\n",
    "         kernel_regularizer=None,\n",
    "         activation=Activation('relu'),\n",
    "         decode_activation=Activation('sigmoid'),\n",
    "         bottleneck_activation=Activation('relu'),\n",
    "         batch_momentum=.999,\n",
    "         residual=False,\n",
    "         max_pooling=True,\n",
    "         average_pooling=False,\n",
    "         padding='same',\n",
    "         batch_norm=True):\n",
    "\n",
    "    inputs = Input(shape=input_shape)\n",
    "    x = inputs\n",
    "\n",
    "    conv_parameters = {\n",
    "        'padding': padding,\n",
    "        'strides': stride_length,\n",
    "        'kernel_initializer': kernel_initializer,\n",
    "        'kernel_regularizer': kernel_regularizer\n",
    "    }\n",
    "\n",
    "    # encode net\n",
    "    encode_layers = []\n",
    "    for i, filters in enumerate(nfilters):\n",
    "        x = Conv2D(filters, kernel, **conv_parameters)(x)\n",
    "        if batch_norm:\n",
    "            x = BatchNormalization(momentum=batch_momentum)(x)\n",
    "        x = activation(x)\n",
    "        x = Conv2D(filters, kernel, **conv_parameters)(x)\n",
    "        if batch_norm:\n",
    "            x = BatchNormalization(momentum=batch_momentum)(x)\n",
    "        x = activation(x)\n",
    "        if max_pooling:\n",
    "            x = MaxPooling2D((2, 2), padding=padding)(x)\n",
    "        elif average_pooling:\n",
    "            x = AveragePooling2D((2, 2), padding=padding)(x)\n",
    " \n",
    "        encode_layers.append(x)\n",
    "\n",
    "    for i, filters in enumerate(reversed(nfilters)):\n",
    "        x = Conv2D(filters, kernel, **conv_parameters)(x)\n",
    "        if batch_norm:\n",
    "            x = BatchNormalization(momentum=batch_momentum)(x)\n",
    "            x = activation(x)\n",
    "        use_idx = len(encode_layers) - (i + 1)\n",
    "        x = Concatenate(axis=-1)([x, encode_layers[use_idx]])\n",
    "        x = Conv2D(filters, kernel, **conv_parameters)(x)\n",
    "        if batch_norm:\n",
    "            x = BatchNormalization(momentum=batch_momentum)(x)\n",
    "            x = activation(x)\n",
    "        x = Conv2D(filters, kernel, **conv_parameters)(x)\n",
    "        if batch_norm:\n",
    "            x = BatchNormalization(momentum=batch_momentum)(x)\n",
    "            x = activation(x)\n",
    "        if max_pooling or average_pooling:\n",
    "            x = UpSampling2D((2, 2))(x)\n",
    "        elif stride_length[0] > 1:\n",
    "            x = UpSampling2D(stride_length)(x)\n",
    "\n",
    "    decoded = Conv2D(1, kernel, padding=padding)(x)\n",
    "    decoded = decode_activation(decoded)\n",
    "\n",
    "    cae = Model(inputs, decoded)\n",
    "    return cae"
   ]
  },
  {
   "cell_type": "code",
   "execution_count": 5,
   "metadata": {},
   "outputs": [],
   "source": [
    "#training data\n",
    "\n",
    "# the frame file is just the training data (h5 files containing frames of video that the model will learn to warp and resize)\n",
    "# the ideal training set is a behaviorally diverse but similarly sized set of mice (size should be target size for all warping)\n",
    "\n",
    "frame_file = '/n/groups/datta/Dana/longtogeny39/training_set_1.h5'\n",
    "\n",
    "#the cable file is either the same as the frame if there are no obstructions OR a modified version of the original frames (Simulating obstructions)\n",
    "cable_file = '/n/groups/datta/Dana/longtogeny39/training_set_1.h5'\n",
    "\n",
    "model_save_path= '/n/groups/datta/Dana/longtogeny39/longtogeny_model_training_set_1.h5'\n",
    "\n",
    "#data to use for testing unet performance\n",
    "heldout_data='/n/groups/datta/Dana/longtogeny39/3_weeks_lo/session_20190916131152/proc/results_00.h5'\n",
    "\n",
    "#path to save figure showing how unet model performs on heldout data\n",
    "figure_path='longtogeny_model_training_set_1_performance_on_session_20190916131152.pdf'"
   ]
  },
  {
   "cell_type": "code",
   "execution_count": 6,
   "metadata": {},
   "outputs": [],
   "source": [
    "with h5py.File(frame_file, 'r+') as f:\n",
    "    nframes = len(f['/frames'])"
   ]
  },
  {
   "cell_type": "code",
   "execution_count": 7,
   "metadata": {},
   "outputs": [],
   "source": [
    "train_idx, test_set = train_test_split(np.arange(nframes), test_size=.2)\n",
    "test_idx, validate_idx = train_test_split(test_set, test_size=.5)"
   ]
  },
  {
   "cell_type": "code",
   "execution_count": 8,
   "metadata": {},
   "outputs": [],
   "source": [
    "nframes /= 1\n",
    "nframes = int(nframes)"
   ]
  },
  {
   "cell_type": "code",
   "execution_count": 9,
   "metadata": {},
   "outputs": [],
   "source": [
    "# ts_split = TimeSeriesSplit(n_splits=3)\n",
    "# *_, (train_idx, test_idx) = ts_split.split(np.arange(nframes))\n",
    "# ts_split = TimeSeriesSplit(n_splits=2)\n",
    "# *_, (test_idx1, test_idx2) = ts_split.split(np.arange(len(test_idx)))\n",
    "# validate_idx = test_idx[test_idx2]\n",
    "# test_idx = test_idx[test_idx1]"
   ]
  },
  {
   "cell_type": "code",
   "execution_count": 10,
   "metadata": {},
   "outputs": [
    {
     "data": {
      "image/png": "[encoded data removed]",
      "text/plain": [
       "<Figure size 720x72 with 1 Axes>"
      ]
     },
     "metadata": {
      "needs_background": "light"
     },
     "output_type": "display_data"
    }
   ],
   "source": [
    "fig, ax = plt.subplots(1, figsize=(10,1))\n",
    "tmp = np.zeros((nframes, 10))\n",
    "tmp[train_idx] = 1\n",
    "tmp[test_idx] = 2\n",
    "tmp[validate_idx] = 3\n",
    "ax.imshow(tmp[::100].T, aspect='auto')\n",
    "ax.axis('off')\n",
    "plt.show()"
   ]
  },
  {
   "cell_type": "code",
   "execution_count": 11,
   "metadata": {},
   "outputs": [],
   "source": [
    "generator_params = {\n",
    "    'batch_size': 256,\n",
    "    'step_size': 1,\n",
    "    'per_image_normalize': False,\n",
    "    'per_feature_normalize': False,\n",
    "    'scaling': None,\n",
    "    'expand_dims': True,\n",
    "    'jitter_frames': True,\n",
    "    'jitter_position': (.8, 5),\n",
    "    'jitter_rotation': (.8, 10),\n",
    "    'jitter_scale': (.5, .35),\n",
    "    'jitter_skew': (.5, .05),\n",
    "    'jitter_flip': .25,\n",
    "    'jitter_pixel': 7,\n",
    "    'jitter_cable': 0.25,\n",
    "    'cable_filename': cable_file,\n",
    "    'filename': frame_file,\n",
    "}"
   ]
  },
  {
   "cell_type": "code",
   "execution_count": 12,
   "metadata": {},
   "outputs": [],
   "source": [
    "training_generator = DataGenAE('frames', subset=train_idx.astype('int'), \n",
    "                             augment_fraction=1, **generator_params)\n",
    "testing_generator = DataGenAE('frames', subset=test_idx.astype('int'), \n",
    "                             augment_fraction=1, **generator_params)\n",
    "validation_generator = DataGenAE('frames', subset=validate_idx.astype('int'), \n",
    "                                 augment_fraction=1, **generator_params)"
   ]
  },
  {
   "cell_type": "code",
   "execution_count": 13,
   "metadata": {},
   "outputs": [
    {
     "name": "stderr",
     "output_type": "stream",
     "text": [
      "W0331 10:32:03.793093 140264626353984 deprecation_wrapper.py:119] From /home/ra206/miniconda3/envs/unetgpu/lib/python3.7/site-packages/keras/backend/tensorflow_backend.py:517: The name tf.placeholder is deprecated. Please use tf.compat.v1.placeholder instead.\n",
      "\n",
      "W0331 10:32:03.798297 140264626353984 deprecation_wrapper.py:119] From /home/ra206/miniconda3/envs/unetgpu/lib/python3.7/site-packages/keras/backend/tensorflow_backend.py:4138: The name tf.random_uniform is deprecated. Please use tf.random.uniform instead.\n",
      "\n",
      "W0331 10:32:03.831408 140264626353984 deprecation_wrapper.py:119] From /home/ra206/miniconda3/envs/unetgpu/lib/python3.7/site-packages/keras/backend/tensorflow_backend.py:174: The name tf.get_default_session is deprecated. Please use tf.compat.v1.get_default_session instead.\n",
      "\n",
      "W0331 10:32:03.833558 140264626353984 deprecation_wrapper.py:119] From /home/ra206/miniconda3/envs/unetgpu/lib/python3.7/site-packages/keras/backend/tensorflow_backend.py:184: The name tf.ConfigProto is deprecated. Please use tf.compat.v1.ConfigProto instead.\n",
      "\n",
      "W0331 10:32:06.836767 140264626353984 deprecation_wrapper.py:119] From /home/ra206/miniconda3/envs/unetgpu/lib/python3.7/site-packages/keras/backend/tensorflow_backend.py:1834: The name tf.nn.fused_batch_norm is deprecated. Please use tf.compat.v1.nn.fused_batch_norm instead.\n",
      "\n",
      "W0331 10:32:06.959123 140264626353984 deprecation_wrapper.py:119] From /home/ra206/miniconda3/envs/unetgpu/lib/python3.7/site-packages/keras/backend/tensorflow_backend.py:3976: The name tf.nn.max_pool is deprecated. Please use tf.nn.max_pool2d instead.\n",
      "\n",
      "W0331 10:32:07.676482 140264626353984 deprecation_wrapper.py:119] From /home/ra206/miniconda3/envs/unetgpu/lib/python3.7/site-packages/keras/backend/tensorflow_backend.py:2018: The name tf.image.resize_nearest_neighbor is deprecated. Please use tf.compat.v1.image.resize_nearest_neighbor instead.\n",
      "\n"
     ]
    }
   ],
   "source": [
    "#     multi_model = multi_gpu_model(model, gpus=2)\n",
    "mdl = unet(nfilters=[16, 32, 64, 128],\n",
    "           activation=Activation('relu'),\n",
    "           decode_activation=Activation('linear'),\n",
    "           stride_length=(1, 1),\n",
    "           kernel=(3, 3),\n",
    "           max_pooling=True,\n",
    "           average_pooling=False,\n",
    "           residual=False,\n",
    "           batch_norm=True)"
   ]
  },
  {
   "cell_type": "code",
   "execution_count": 14,
   "metadata": {},
   "outputs": [],
   "source": [
    "#mdl.summary()"
   ]
  },
  {
   "cell_type": "code",
   "execution_count": 15,
   "metadata": {},
   "outputs": [
    {
     "name": "stderr",
     "output_type": "stream",
     "text": [
      "W0331 10:32:18.170047 140264626353984 deprecation_wrapper.py:119] From /home/ra206/miniconda3/envs/unetgpu/lib/python3.7/site-packages/keras/optimizers.py:790: The name tf.train.Optimizer is deprecated. Please use tf.compat.v1.train.Optimizer instead.\n",
      "\n"
     ]
    }
   ],
   "source": [
    "opt = optimizers.SGD(lr=1e-3, nesterov=True, momentum=.9, decay=1e-6)\n",
    "mdl.compile(optimizer=opt, loss=\"mse\")"
   ]
  },
  {
   "cell_type": "code",
   "execution_count": 16,
   "metadata": {
    "scrolled": true
   },
   "outputs": [
    {
     "name": "stdout",
     "output_type": "stream",
     "text": [
      "Epoch 1/15\n",
      "224/224 [==============================] - 93s 414ms/step - loss: 11.8369 - val_loss: 10.7898\n",
      "Epoch 2/15\n",
      "224/224 [==============================] - 83s 369ms/step - loss: 7.6832 - val_loss: 9.6637\n",
      "Epoch 3/15\n",
      "224/224 [==============================] - 83s 371ms/step - loss: 6.9491 - val_loss: 9.0900\n",
      "Epoch 4/15\n",
      "224/224 [==============================] - 81s 363ms/step - loss: 6.4990 - val_loss: 10.4527\n",
      "Epoch 5/15\n",
      "224/224 [==============================] - 82s 367ms/step - loss: 6.1751 - val_loss: 9.3564\n",
      "Epoch 6/15\n",
      "224/224 [==============================] - 82s 368ms/step - loss: 5.9459 - val_loss: 9.1749\n",
      "Epoch 7/15\n",
      "224/224 [==============================] - 83s 371ms/step - loss: 5.7670 - val_loss: 8.2855\n",
      "Epoch 8/15\n",
      "224/224 [==============================] - 82s 365ms/step - loss: 5.5887 - val_loss: 10.0466\n",
      "Epoch 9/15\n",
      "224/224 [==============================] - 82s 367ms/step - loss: 5.4805 - val_loss: 8.4719\n",
      "Epoch 10/15\n",
      "224/224 [==============================] - 83s 372ms/step - loss: 5.3803 - val_loss: 8.3152\n",
      "Epoch 11/15\n",
      "224/224 [==============================] - 82s 366ms/step - loss: 5.2654 - val_loss: 7.4575\n",
      "Epoch 12/15\n",
      "224/224 [==============================] - 83s 370ms/step - loss: 5.1930 - val_loss: 9.4674\n",
      "Epoch 13/15\n",
      "224/224 [==============================] - 82s 366ms/step - loss: 5.0958 - val_loss: 8.2223\n",
      "Epoch 14/15\n",
      "224/224 [==============================] - 81s 363ms/step - loss: 5.0318 - val_loss: 6.7375\n",
      "Epoch 15/15\n",
      "224/224 [==============================] - 83s 370ms/step - loss: 4.9673 - val_loss: 8.2978\n"
     ]
    },
    {
     "data": {
      "text/plain": [
       "<keras.callbacks.History at 0x7f90fdcfcb70>"
      ]
     },
     "execution_count": 16,
     "metadata": {},
     "output_type": "execute_result"
    }
   ],
   "source": [
    "mdl.fit_generator(training_generator,\n",
    "                  validation_data=validation_generator,\n",
    "                  use_multiprocessing=True,\n",
    "                  epochs=15, \n",
    "                  workers=14,\n",
    "                  max_queue_size=50,\n",
    "                  shuffle=True,\n",
    "                  verbose=1)"
   ]
  },
  {
   "cell_type": "code",
   "execution_count": 17,
   "metadata": {},
   "outputs": [
    {
     "name": "stdout",
     "output_type": "stream",
     "text": [
      "28/28 [==============================] - 27s 951ms/step\n"
     ]
    }
   ],
   "source": [
    "output = mdl.predict_generator(testing_generator,\n",
    "                                verbose=1).squeeze()"
   ]
  },
  {
   "cell_type": "code",
   "execution_count": 21,
   "metadata": {},
   "outputs": [
    {
     "data": {
      "text/plain": [
       "<matplotlib.image.AxesImage at 0x7f90e5714c18>"
      ]
     },
     "execution_count": 21,
     "metadata": {},
     "output_type": "execute_result"
    },
    {
     "data": {
      "image/png": "[encoded data removed]",
      "text/plain": [
       "<Figure size 432x288 with 1 Axes>"
      ]
     },
     "metadata": {
      "needs_background": "light"
     },
     "output_type": "display_data"
    }
   ],
   "source": [
    "plt.imshow(output[1300], vmin=0, vmax=50)"
   ]
  },
  {
   "cell_type": "code",
   "execution_count": 22,
   "metadata": {},
   "outputs": [],
   "source": [
    "mdl.save(model_save_path)"
   ]
  },
  {
   "cell_type": "code",
   "execution_count": 23,
   "metadata": {},
   "outputs": [
    {
     "name": "stdout",
     "output_type": "stream",
     "text": [
      "35988/35988 [==============================] - 6s 165us/step\n"
     ]
    },
    {
     "data": {
      "image/png": "[encoded data removed]",
      "text/plain": [
       "<Figure size 864x720 with 10 Axes>"
      ]
     },
     "metadata": {
      "needs_background": "light"
     },
     "output_type": "display_data"
    }
   ],
   "source": [
    "#testing unet on heldout data\n",
    "cable_files = glob(heldout_data)\n",
    "\n",
    "with h5py.File(cable_files[0], 'r') as f:\n",
    "    test_frames = f['/frames'][...]\n",
    "    \n",
    "#changed cvae.predict to mdl.predict\n",
    "#reconstructed original data\n",
    "recon_frames = mdl.predict(test_frames[..., None].astype('float32'), \n",
    "                            verbose=1).squeeze()\n",
    "\n",
    "choose_idx = np.random.permutation(len(recon_frames))\n",
    "fig, ax = plt.subplots(1, 10, figsize=(12, 10), sharex=True, sharey=True)\n",
    "\n",
    "for i in range(10):\n",
    "    idx = choose_idx[i]\n",
    "    ax[i].imshow(np.concatenate((test_frames[idx].squeeze(),\n",
    "                                 recon_frames[idx].squeeze())),\n",
    "                                 vmin=0, vmax=80, cmap='jet')\n",
    "for _ in ax.ravel():\n",
    "    _.axis('off')\n",
    "plt.tight_layout()\n",
    "plt.savefig(figure_path)"
   ]
  },
  {
   "cell_type": "code",
   "execution_count": null,
   "metadata": {},
   "outputs": [],
   "source": []
  }
 ],
 "metadata": {
  "kernelspec": {
   "display_name": "Python 3",
   "language": "python",
   "name": "python3"
  },
  "language_info": {
   "codemirror_mode": {
    "name": "ipython",
    "version": 3
   },
   "file_extension": ".py",
   "mimetype": "text/x-python",
   "name": "python",
   "nbconvert_exporter": "python",
   "pygments_lexer": "ipython3",
   "version": "3.7.3"
  }
 },
 "nbformat": 4,
 "nbformat_minor": 2
}
